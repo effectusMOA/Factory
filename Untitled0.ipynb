{
  "nbformat": 4,
  "nbformat_minor": 0,
  "metadata": {
    "colab": {
      "provenance": [],
      "collapsed_sections": [],
      "authorship_tag": "ABX9TyO1n7GFcKeRBI7XhFHwHgkf",
      "include_colab_link": true
    },
    "kernelspec": {
      "name": "python3",
      "display_name": "Python 3"
    },
    "language_info": {
      "name": "python"
    }
  },
  "cells": [
    {
      "cell_type": "markdown",
      "metadata": {
        "id": "view-in-github",
        "colab_type": "text"
      },
      "source": [
        "<a href=\"https://colab.research.google.com/github/effectusMOA/Factory/blob/master/Untitled0.ipynb\" target=\"_parent\"><img src=\"https://colab.research.google.com/assets/colab-badge.svg\" alt=\"Open In Colab\"/></a>"
      ]
    },
    {
      "cell_type": "code",
      "execution_count": null,
      "metadata": {
        "id": "4P1PqH16DfDB"
      },
      "outputs": [],
      "source": [
        "numbers=[[1,2,3],[10,20,30],[100,200,300]]\n",
        "for i in range(len(numbers)):\n",
        "  for j in range(len(numbers[i])):\n",
        "    print(numbers[i][j])"
      ]
    },
    {
      "cell_type": "code",
      "source": [
        "import random\n",
        "randnum=random.randrange(0,100)\n",
        "while(randnum<90):\n",
        "  print(randnum)\n",
        "  randnum = random.randrange(0,100) "
      ],
      "metadata": {
        "colab": {
          "base_uri": "https://localhost:8080/"
        },
        "id": "DAnEDD8aEc0s",
        "outputId": "2d26c7dd-6812-4f59-aa33-fdd876a74aba"
      },
      "execution_count": 3,
      "outputs": [
        {
          "output_type": "stream",
          "name": "stdout",
          "text": [
            "1\n",
            "14\n",
            "29\n"
          ]
        }
      ]
    },
    {
      "cell_type": "code",
      "source": [
        "def addNumber(number1,number2):\n",
        "  total=number1+number2\n",
        "  return total\n",
        "print(addNumber(0,1))"
      ],
      "metadata": {
        "colab": {
          "base_uri": "https://localhost:8080/"
        },
        "id": "ixqkeerDE5Im",
        "outputId": "65bf542e-042d-4e91-c323-c78b351db6e3"
      },
      "execution_count": 4,
      "outputs": [
        {
          "output_type": "stream",
          "name": "stdout",
          "text": [
            "1\n"
          ]
        }
      ]
    },
    {
      "cell_type": "code",
      "source": [
        "name=\"강재윤\"\n",
        "myclass=\"학생\"\n",
        "mystartingyear=2019\n",
        "print(f\"나는 {name}이고, 숭실대학교 {myclass}입니다. {mystartingyear}년 부터 숭실대에서 공부합니다.\")"
      ],
      "metadata": {
        "colab": {
          "base_uri": "https://localhost:8080/"
        },
        "id": "38cPTRo7FGYK",
        "outputId": "477daf4f-d95c-4350-dab6-c475485e5a8d"
      },
      "execution_count": 5,
      "outputs": [
        {
          "output_type": "stream",
          "name": "stdout",
          "text": [
            "나는 강재윤이고, 숭실대학교 학생입니다. 2019년 부터 숭실대에서 공부합니다.\n"
          ]
        }
      ]
    },
    {
      "cell_type": "code",
      "source": [
        "a=\"abc,efd,awef,dse,wfq\"\n",
        "a.split(\",\")"
      ],
      "metadata": {
        "colab": {
          "base_uri": "https://localhost:8080/"
        },
        "id": "iHGmcqfXFvO-",
        "outputId": "66029647-92c8-419d-f1c5-18dcf539ae92"
      },
      "execution_count": 6,
      "outputs": [
        {
          "output_type": "execute_result",
          "data": {
            "text/plain": [
              "['abc', 'efd', 'awef', 'dse', 'wfq']"
            ]
          },
          "metadata": {},
          "execution_count": 6
        }
      ]
    },
    {
      "cell_type": "code",
      "source": [
        "test_file=open(\".\\test.txt\",\"w\")"
      ],
      "metadata": {
        "id": "8O-BVFZFFt2o"
      },
      "execution_count": 7,
      "outputs": []
    },
    {
      "cell_type": "code",
      "source": [
        "print(test_file.name)"
      ],
      "metadata": {
        "colab": {
          "base_uri": "https://localhost:8080/"
        },
        "id": "ytC5rfmYGVLV",
        "outputId": "9ce3dac0-3ff5-48ea-981e-20526ede02a4"
      },
      "execution_count": 8,
      "outputs": [
        {
          "output_type": "stream",
          "name": "stdout",
          "text": [
            ".\test.txt\n"
          ]
        }
      ]
    },
    {
      "cell_type": "code",
      "source": [
        "test_file.write(\"안녕하세요?\")"
      ],
      "metadata": {
        "colab": {
          "base_uri": "https://localhost:8080/"
        },
        "id": "VnAYJKjxGcMh",
        "outputId": "65889b3d-e48f-4588-ec0d-fe5587d7a81c"
      },
      "execution_count": 9,
      "outputs": [
        {
          "output_type": "execute_result",
          "data": {
            "text/plain": [
              "6"
            ]
          },
          "metadata": {},
          "execution_count": 9
        }
      ]
    },
    {
      "cell_type": "code",
      "source": [
        "test_file.close()"
      ],
      "metadata": {
        "id": "OjDRL7wGGjtn"
      },
      "execution_count": 10,
      "outputs": []
    },
    {
      "cell_type": "code",
      "source": [
        "test_file=open(\".\\test.txt\",\"r\")\n",
        "text_in_file=test_file.read()\n",
        "print(text_in_file)\n",
        "test_file.close()"
      ],
      "metadata": {
        "colab": {
          "base_uri": "https://localhost:8080/"
        },
        "id": "7SLZmcCTGmMz",
        "outputId": "dbca5f3c-e5a1-44a1-8fd5-320a3c91ea49"
      },
      "execution_count": 11,
      "outputs": [
        {
          "output_type": "stream",
          "name": "stdout",
          "text": [
            "안녕하세요?\n"
          ]
        }
      ]
    },
    {
      "cell_type": "code",
      "source": [
        "import os\n",
        "os.remove(\".\\test.txt\")"
      ],
      "metadata": {
        "id": "4HyxoFPmHGs4"
      },
      "execution_count": 12,
      "outputs": []
    },
    {
      "cell_type": "code",
      "source": [
        "class Student:\n",
        "  \"\"\"학생 정보에 관한 클래스입니다\"\"\"\n",
        "  __name=\"\"\n",
        "  __id=0\n",
        "\n",
        "  def __init__(self,name,id):\n",
        "    self.__name=name\n",
        "    self.__id=id\n",
        "    \n",
        "  def set_name(self,name):\n",
        "    self.__name=name\n",
        "\n",
        "  def set_id(self,id):\n",
        "    self.__id=id\n",
        "\n",
        "  def get_name(self,name):\n",
        "    return self.__name\n",
        "  \n",
        "  def get_id(self,id):\n",
        "    return self.__id\n",
        "\n",
        "  def get_type(self):\n",
        "    print(\"Student\")\n",
        "\n",
        "  def toString(self):\n",
        "    return f\"학생 {self.__name}은 학번이 {self.__id}입니다. \""
      ],
      "metadata": {
        "id": "t4czitBqHQml"
      },
      "execution_count": 28,
      "outputs": []
    },
    {
      "cell_type": "code",
      "source": [
        "jaeyun=Student(\"강재윤\",20192885)"
      ],
      "metadata": {
        "id": "PztuKY16Ha2R"
      },
      "execution_count": 21,
      "outputs": []
    },
    {
      "cell_type": "code",
      "source": [
        "jaeyun.toString()"
      ],
      "metadata": {
        "colab": {
          "base_uri": "https://localhost:8080/",
          "height": 174
        },
        "id": "pfrJeO1KHsWZ",
        "outputId": "c3606714-0ad7-4b8c-e0cc-7e2a6023f279"
      },
      "execution_count": 29,
      "outputs": [
        {
          "output_type": "error",
          "ename": "AttributeError",
          "evalue": "ignored",
          "traceback": [
            "\u001b[0;31m---------------------------------------------------------------------------\u001b[0m",
            "\u001b[0;31mAttributeError\u001b[0m                            Traceback (most recent call last)",
            "\u001b[0;32m<ipython-input-29-522d0e76d118>\u001b[0m in \u001b[0;36m<module>\u001b[0;34m\u001b[0m\n\u001b[0;32m----> 1\u001b[0;31m \u001b[0mjaeyun\u001b[0m\u001b[0;34m.\u001b[0m\u001b[0mtoString\u001b[0m\u001b[0;34m(\u001b[0m\u001b[0;34m)\u001b[0m\u001b[0;34m\u001b[0m\u001b[0;34m\u001b[0m\u001b[0m\n\u001b[0m",
            "\u001b[0;31mAttributeError\u001b[0m: 'Student' object has no attribute 'toString'"
          ]
        }
      ]
    },
    {
      "cell_type": "code",
      "source": [
        "str_list=[str(item) for item in list_sample_2]\n",
        "str_list"
      ],
      "metadata": {
        "colab": {
          "base_uri": "https://localhost:8080/"
        },
        "id": "4bU-3BE_KdiX",
        "outputId": "1d2b563f-e920-4332-c8ea-b0e7f6863e6f"
      },
      "execution_count": 32,
      "outputs": [
        {
          "output_type": "execute_result",
          "data": {
            "text/plain": [
              "['0', '1', '2', '3', '4', '5', '6', '7', '8', '9']"
            ]
          },
          "metadata": {},
          "execution_count": 32
        }
      ]
    },
    {
      "cell_type": "code",
      "source": [
        "list_sample_2=[i for i in range(10)]"
      ],
      "metadata": {
        "id": "E5RnAaVbKoPI"
      },
      "execution_count": 30,
      "outputs": []
    },
    {
      "cell_type": "code",
      "source": [
        "num_dict = {1:100,2:200,3:300,4:400}\n",
        "num_dict_filter={k:v for k, v in num_dict.items() if k%2 ==0}\n",
        "num_dict_filter"
      ],
      "metadata": {
        "colab": {
          "base_uri": "https://localhost:8080/"
        },
        "id": "yKL9cXjXHvyG",
        "outputId": "72595f40-4e46-482e-fbf2-9613073d7212"
      },
      "execution_count": 34,
      "outputs": [
        {
          "output_type": "execute_result",
          "data": {
            "text/plain": [
              "{2: 200, 4: 400}"
            ]
          },
          "metadata": {},
          "execution_count": 34
        }
      ]
    }
  ]
}